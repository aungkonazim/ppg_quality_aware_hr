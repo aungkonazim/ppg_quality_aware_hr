{
 "cells": [
  {
   "cell_type": "code",
   "execution_count": 8,
   "metadata": {
    "execution": {
     "iopub.execute_input": "2020-12-26T19:15:15.353516Z",
     "iopub.status.busy": "2020-12-26T19:15:15.353191Z",
     "iopub.status.idle": "2020-12-26T19:15:15.532783Z",
     "shell.execute_reply": "2020-12-26T19:15:15.532401Z"
    }
   },
   "outputs": [],
   "source": [
    "import pickle\n",
    "X_acl,X_ppg,y,y_participant = pickle.load(open('../data/tabular_data.p','rb'))"
   ]
  },
  {
   "cell_type": "code",
   "execution_count": 9,
   "metadata": {
    "execution": {
     "iopub.execute_input": "2020-12-26T19:15:15.535148Z",
     "iopub.status.busy": "2020-12-26T19:15:15.534858Z",
     "iopub.status.idle": "2020-12-26T19:15:15.802215Z",
     "shell.execute_reply": "2020-12-26T19:15:15.801881Z"
    }
   },
   "outputs": [],
   "source": [
    "from sklearn.preprocessing import RobustScaler,MinMaxScaler"
   ]
  },
  {
   "cell_type": "code",
   "execution_count": 10,
   "metadata": {
    "execution": {
     "iopub.execute_input": "2020-12-26T19:15:15.804906Z",
     "iopub.status.busy": "2020-12-26T19:15:15.804615Z",
     "iopub.status.idle": "2020-12-26T19:15:20.180595Z",
     "shell.execute_reply": "2020-12-26T19:15:20.180263Z"
    }
   },
   "outputs": [],
   "source": [
    "for k in range(X_ppg.shape[0]):\n",
    "    X_ppg[k] = MinMaxScaler().fit_transform(X_ppg[k])"
   ]
  },
  {
   "cell_type": "code",
   "execution_count": 11,
   "metadata": {
    "execution": {
     "iopub.execute_input": "2020-12-26T19:15:20.183033Z",
     "iopub.status.busy": "2020-12-26T19:15:20.182729Z",
     "iopub.status.idle": "2020-12-26T19:15:20.428923Z",
     "shell.execute_reply": "2020-12-26T19:15:20.428584Z"
    }
   },
   "outputs": [],
   "source": [
    "import numpy as np\n",
    "X_ppg = X_ppg[:,np.arange(0,512,2),:]\n",
    "\n",
    "X_acl = np.concatenate([X_ppg,X_acl],axis=-1)\n",
    "\n",
    "y = X_ppg[:,:,0].reshape(-1,256,1)\n",
    "X_acl = X_acl[:,:,:1]"
   ]
  },
  {
   "cell_type": "code",
   "execution_count": 12,
   "metadata": {
    "execution": {
     "iopub.execute_input": "2020-12-26T19:15:20.432613Z",
     "iopub.status.busy": "2020-12-26T19:15:20.432320Z",
     "iopub.status.idle": "2020-12-26T19:15:21.458276Z",
     "shell.execute_reply": "2020-12-26T19:15:21.457943Z"
    }
   },
   "outputs": [],
   "source": [
    "import numpy as np\n",
    "import matplotlib.pyplot as plt\n",
    "from sklearn.model_selection import train_test_split,LeaveOneGroupOut,LeavePGroupsOut\n",
    "from sklearn.metrics import accuracy_score\n",
    "import tensorflow as tf\n",
    "from tensorflow import keras\n",
    "from keras import backend as K \n",
    "import matplotlib.pyplot as plt\n",
    "from keras.callbacks import ModelCheckpoint\n",
    "from keras.callbacks import EarlyStopping\n",
    "from sklearn.model_selection import train_test_split\n",
    "import numpy as np\n",
    "%matplotlib notebook\n",
    "from keras.layers import Conv1D,BatchNormalization,Dropout,Input,MaxPooling1D,Flatten,Dense,Input, GaussianNoise,LSTM, Bidirectional\n",
    "from keras.models import Model, Sequential"
   ]
  },
  {
   "cell_type": "code",
   "execution_count": 13,
   "metadata": {
    "execution": {
     "iopub.execute_input": "2020-12-26T19:15:21.461113Z",
     "iopub.status.busy": "2020-12-26T19:15:21.460820Z",
     "iopub.status.idle": "2020-12-26T19:15:21.506180Z",
     "shell.execute_reply": "2020-12-26T19:15:21.505841Z"
    }
   },
   "outputs": [],
   "source": [
    "logo = LeaveOneGroupOut()\n",
    "logo = LeavePGroupsOut(n_groups=5)\n",
    "for train_index, test_index in logo.split(X_acl, y, y_participant.reshape(-1)):\n",
    "    train_x, test_x = X_acl[train_index], X_acl[test_index]\n",
    "    train_y, test_y = y[train_index], y[test_index]\n",
    "    train_participant, test_participant = y_participant[train_index], y_participant[test_index]\n",
    "    break\n",
    "train_x.shape,train_y.shape\n",
    "pickle.dump([train_participant,test_participant],open('../data/participant_split_for_BRDAE.p','wb'))"
   ]
  },
  {
   "cell_type": "code",
   "execution_count": 14,
   "metadata": {
    "execution": {
     "iopub.execute_input": "2020-12-26T19:15:21.511664Z",
     "iopub.status.busy": "2020-12-26T19:15:21.511362Z",
     "iopub.status.idle": "2020-12-26T19:15:22.287254Z",
     "shell.execute_reply": "2020-12-26T19:15:22.288450Z"
    }
   },
   "outputs": [
    {
     "name": "stderr",
     "output_type": "stream",
     "text": [
      "[Parallel(n_jobs=20)]: Using backend LokyBackend with 20 concurrent workers.\n",
      "[Parallel(n_jobs=20)]: Done   1 tasks      | elapsed:    0.8s\n",
      "[Parallel(n_jobs=20)]: Done  37 out of  50 | elapsed:    5.3s remaining:    1.9s\n",
      "[Parallel(n_jobs=20)]: Done  50 out of  50 | elapsed:    6.5s finished\n"
     ]
    }
   ],
   "source": [
    "from joblib import Parallel,delayed\n",
    "\n",
    "def random_noise(x):\n",
    "    return x+(1/3)*np.random.normal(0,1,x.shape)\n",
    "\n",
    "def sloping_noise(x):\n",
    "    x = x.copy()\n",
    "    def corrupt_single(xx):\n",
    "        xx_temp = np.random.uniform(-1,1)\n",
    "        xx_temp = np.array([xx_temp]*256).reshape(256,1)\n",
    "        index = np.arange(0,256,1).reshape(256,1)\n",
    "        return xx+(4/250)*np.multiply(index,xx_temp)\n",
    "\n",
    "    for i in range(x.shape[0]):\n",
    "        x[i] = corrupt_single(x[i])\n",
    "    return x\n",
    "\n",
    "\n",
    "def saturation_noise(x):\n",
    "    x = x.copy()\n",
    "    for i in range(x.shape[0]):\n",
    "        low = np.random.randint(0,216)\n",
    "        high = np.random.randint(low,min(256,np.random.randint(low+1,low+51)))\n",
    "        x[i][low:high,0] = np.random.randint(0,2)\n",
    "    return x\n",
    "\n",
    "def generate_combinations(x):\n",
    "    functions = [random_noise,saturation_noise,sloping_noise]\n",
    "    indicator = np.random.randint(0,2,3)\n",
    "#     indicator = [1,1,1]\n",
    "    for j,i in enumerate(indicator):\n",
    "        if i==1:\n",
    "            x = functions[j](x)\n",
    "    return x\n",
    "\n",
    "\n",
    "def generate_corrupt_all(train_x,n):\n",
    "    X = Parallel(n_jobs=20,verbose=2)(delayed(generate_combinations)(train_x.copy()) for i in range(n))\n",
    "    return np.concatenate(X)\n",
    "\n",
    "n = 50\n",
    "train_y = np.concatenate([train_x]*n)\n",
    "train_x = generate_corrupt_all(train_x,n=n)\n",
    " \n"
   ]
  },
  {
   "cell_type": "code",
   "execution_count": 15,
   "metadata": {
    "execution": {
     "iopub.execute_input": "2020-12-26T19:15:22.299865Z",
     "iopub.status.busy": "2020-12-26T19:15:22.298680Z",
     "iopub.status.idle": "2020-12-26T19:15:22.325745Z",
     "shell.execute_reply": "2020-12-26T19:15:22.325312Z"
    }
   },
   "outputs": [
    {
     "data": {
      "text/plain": [
       "(((1140480, 256, 1), (1140480, 256, 1)),\n",
       " ((285120, 256, 1), (285120, 256, 1)),\n",
       " ((14851, 256, 1), (14851, 256, 1)))"
      ]
     },
     "execution_count": 15,
     "metadata": {},
     "output_type": "execute_result"
    }
   ],
   "source": [
    "train_x, val_x, train_y, val_y = train_test_split(train_x,train_y,test_size = 0.2,random_state=42)\n",
    "\n",
    "(train_x.shape, train_y.shape), (val_x.shape, val_y.shape),(test_x.shape,test_y.shape)"
   ]
  },
  {
   "cell_type": "code",
   "execution_count": 16,
   "metadata": {
    "execution": {
     "iopub.execute_input": "2020-12-26T19:15:22.332844Z",
     "iopub.status.busy": "2020-12-26T19:15:22.332510Z",
     "iopub.status.idle": "2020-12-26T19:15:22.334289Z",
     "shell.execute_reply": "2020-12-26T19:15:22.333952Z"
    }
   },
   "outputs": [],
   "source": [
    "def get_model(input_shape=(256,1),act='tanh',loss=\"mae\",opt='adam',n_classes=1):\n",
    "    model =  Sequential()\n",
    "    model.add(Conv1D(100,10,input_shape=input_shape,activation='tanh',kernel_initializer='normal',padding='same'))\n",
    "    model.add(MaxPool1D(2))\n",
    "    model.add(BatchNormalization())\n",
    "    model.add(Dropout(.2))\n",
    "    model.add(Conv1D(100,20,input_shape=input_shape,activation='relu',kernel_initializer='normal',padding='same'))\n",
    "    model.add(MaxPool1D(5))\n",
    "    model.add(BatchNormalization())\n",
    "    model.add(Dropout(.2))\n",
    "    model.add(Conv1D(50,10,input_shape=input_shape,activation='relu',kernel_initializer='normal',padding='same'))\n",
    "    model.add(MaxPool1D(2))\n",
    "    model.add(BatchNormalization())\n",
    "    model.add(Flatten())\n",
    "    model.add(Dense(20,activation='relu'))\n",
    "    model.add(Reshape((10,2)))\n",
    "    model.add(Conv1D(100,2,input_shape=input_shape,activation='relu',kernel_initializer='normal',padding='same'))\n",
    "    model.add(BatchNormalization())\n",
    "    model.add(Dropout(.2))\n",
    "    model.add(Conv1D(256,2,input_shape=input_shape,activation='tanh',kernel_initializer='normal',padding='same'))\n",
    "    model.add(Reshape((256,10)))\n",
    "    model.add(TimeDistributed(Dense(1,activation='sigmoid')))\n",
    "#     model.add(Dense(64,activation='relu'))\n",
    "#     model.add(Dense(128,activation='tanh'))\n",
    "#     model.add(Dense(256,activation='sigmoid'))\n",
    "#     model.add(Reshape((256,1)))\n",
    "    \n",
    "    \n",
    "#     model.add(Bidirectional(LSTM(100,return_sequences=True,activation='tanh',kernel_initializer='normal')))\n",
    "#     model.add(TimeDistributed(Dense(1,activation='')))\n",
    "    model.compile(loss=loss,optimizer=opt)\n",
    "    return model\n",
    "\n",
    "def get_model_LSTM(input_shape=(256,1),act='tanh',loss=\"mse\",opt='adam',n_classes=1):\n",
    "    model = Sequential()\n",
    "    model.add(GaussianNoise(stddev=1))\n",
    "    model.add(Bidirectional(LSTM(40,return_sequences=True,\n",
    "                      activation='tanh',input_shape=input_shape)))\n",
    "    model.add(Dense(1,activation='sigmoid'))\n",
    "    model.compile(loss=loss,optimizer=opt)\n",
    "    return model"
   ]
  },
  {
   "cell_type": "code",
   "execution_count": 17,
   "metadata": {
    "execution": {
     "iopub.execute_input": "2020-12-26T19:15:22.339310Z",
     "iopub.status.busy": "2020-12-26T19:15:22.339025Z",
     "iopub.status.idle": "2020-12-26T19:15:22.404626Z",
     "shell.execute_reply": "2020-12-26T19:15:22.403766Z"
    }
   },
   "outputs": [],
   "source": [
    "model = get_model_LSTM()"
   ]
  },
  {
   "cell_type": "code",
   "execution_count": 21,
   "metadata": {
    "execution": {
     "iopub.execute_input": "2020-12-26T19:15:22.409613Z",
     "iopub.status.busy": "2020-12-26T19:15:22.408819Z",
     "iopub.status.idle": "2020-12-26T19:15:22.412246Z",
     "shell.execute_reply": "2020-12-26T19:15:22.411422Z"
    }
   },
   "outputs": [],
   "source": [
    "from keras.models import load_model\n",
    "filepath = '../model_files/BRDAE_final_1.hdf5'\n",
    "model = load_model(filepath)"
   ]
  },
  {
   "cell_type": "code",
   "execution_count": 22,
   "metadata": {
    "execution": {
     "iopub.execute_input": "2020-12-26T19:15:22.420176Z",
     "iopub.status.busy": "2020-12-26T19:15:22.419372Z",
     "iopub.status.idle": "2020-12-26T19:15:38.769475Z",
     "shell.execute_reply": "2020-12-26T19:15:38.768994Z"
    }
   },
   "outputs": [
    {
     "name": "stdout",
     "output_type": "stream",
     "text": [
      "Train on 1140480 samples, validate on 285120 samples\n",
      "Epoch 1/200\n",
      "1140480/1140480 [==============================] - 276s 242us/step - loss: 0.0344 - val_loss: 0.0249\n",
      "\n",
      "Epoch 00001: val_loss improved from inf to 0.02487, saving model to ../model_files/BRDAE_final_1.hdf5\n",
      "Epoch 2/200\n",
      "1140480/1140480 [==============================] - 276s 242us/step - loss: 0.0343 - val_loss: 0.0245\n",
      "\n",
      "Epoch 00002: val_loss improved from 0.02487 to 0.02450, saving model to ../model_files/BRDAE_final_1.hdf5\n",
      "Epoch 3/200\n",
      "1140480/1140480 [==============================] - 276s 242us/step - loss: 0.0343 - val_loss: 0.0242\n",
      "\n",
      "Epoch 00003: val_loss improved from 0.02450 to 0.02424, saving model to ../model_files/BRDAE_final_1.hdf5\n",
      "Epoch 4/200\n",
      "1140000/1140480 [============================>.] - ETA: 0s - loss: 0.0343"
     ]
    },
    {
     "ename": "KeyboardInterrupt",
     "evalue": "",
     "output_type": "error",
     "traceback": [
      "\u001b[0;31m---------------------------------------------------------------------------\u001b[0m",
      "\u001b[0;31mKeyboardInterrupt\u001b[0m                         Traceback (most recent call last)",
      "\u001b[0;32m<ipython-input-22-b9f87f5875fe>\u001b[0m in \u001b[0;36m<module>\u001b[0;34m\u001b[0m\n\u001b[1;32m      3\u001b[0m \u001b[0mcallbacks_list\u001b[0m \u001b[0;34m=\u001b[0m \u001b[0;34m[\u001b[0m\u001b[0mes\u001b[0m\u001b[0;34m,\u001b[0m\u001b[0mcheckpoint\u001b[0m\u001b[0;34m]\u001b[0m\u001b[0;34m\u001b[0m\u001b[0;34m\u001b[0m\u001b[0m\n\u001b[1;32m      4\u001b[0m history = model.fit(train_x,train_y,validation_data=(val_x,val_y), epochs=200, batch_size=1000,\n\u001b[0;32m----> 5\u001b[0;31m           callbacks=callbacks_list,shuffle=True)\n\u001b[0m",
      "\u001b[0;32m~/anaconda3/envs/test/lib/python3.7/site-packages/keras/engine/training.py\u001b[0m in \u001b[0;36mfit\u001b[0;34m(self, x, y, batch_size, epochs, verbose, callbacks, validation_split, validation_data, shuffle, class_weight, sample_weight, initial_epoch, steps_per_epoch, validation_steps, validation_freq, max_queue_size, workers, use_multiprocessing, **kwargs)\u001b[0m\n\u001b[1;32m   1237\u001b[0m                                         \u001b[0msteps_per_epoch\u001b[0m\u001b[0;34m=\u001b[0m\u001b[0msteps_per_epoch\u001b[0m\u001b[0;34m,\u001b[0m\u001b[0;34m\u001b[0m\u001b[0;34m\u001b[0m\u001b[0m\n\u001b[1;32m   1238\u001b[0m                                         \u001b[0mvalidation_steps\u001b[0m\u001b[0;34m=\u001b[0m\u001b[0mvalidation_steps\u001b[0m\u001b[0;34m,\u001b[0m\u001b[0;34m\u001b[0m\u001b[0;34m\u001b[0m\u001b[0m\n\u001b[0;32m-> 1239\u001b[0;31m                                         validation_freq=validation_freq)\n\u001b[0m\u001b[1;32m   1240\u001b[0m \u001b[0;34m\u001b[0m\u001b[0m\n\u001b[1;32m   1241\u001b[0m     def evaluate(self,\n",
      "\u001b[0;32m~/anaconda3/envs/test/lib/python3.7/site-packages/keras/engine/training_arrays.py\u001b[0m in \u001b[0;36mfit_loop\u001b[0;34m(model, fit_function, fit_inputs, out_labels, batch_size, epochs, verbose, callbacks, val_function, val_inputs, shuffle, initial_epoch, steps_per_epoch, validation_steps, validation_freq)\u001b[0m\n\u001b[1;32m    208\u001b[0m                                          \u001b[0mbatch_size\u001b[0m\u001b[0;34m=\u001b[0m\u001b[0mbatch_size\u001b[0m\u001b[0;34m,\u001b[0m\u001b[0;34m\u001b[0m\u001b[0;34m\u001b[0m\u001b[0m\n\u001b[1;32m    209\u001b[0m                                          \u001b[0mcallbacks\u001b[0m\u001b[0;34m=\u001b[0m\u001b[0mcallbacks\u001b[0m\u001b[0;34m,\u001b[0m\u001b[0;34m\u001b[0m\u001b[0;34m\u001b[0m\u001b[0m\n\u001b[0;32m--> 210\u001b[0;31m                                          verbose=0)\n\u001b[0m\u001b[1;32m    211\u001b[0m                     \u001b[0mval_outs\u001b[0m \u001b[0;34m=\u001b[0m \u001b[0mto_list\u001b[0m\u001b[0;34m(\u001b[0m\u001b[0mval_outs\u001b[0m\u001b[0;34m)\u001b[0m\u001b[0;34m\u001b[0m\u001b[0;34m\u001b[0m\u001b[0m\n\u001b[1;32m    212\u001b[0m                     \u001b[0;31m# Same labels assumed.\u001b[0m\u001b[0;34m\u001b[0m\u001b[0;34m\u001b[0m\u001b[0;34m\u001b[0m\u001b[0m\n",
      "\u001b[0;32m~/anaconda3/envs/test/lib/python3.7/site-packages/keras/engine/training_arrays.py\u001b[0m in \u001b[0;36mtest_loop\u001b[0;34m(model, f, ins, batch_size, verbose, steps, callbacks)\u001b[0m\n\u001b[1;32m    439\u001b[0m             \u001b[0;32mif\u001b[0m \u001b[0misinstance\u001b[0m\u001b[0;34m(\u001b[0m\u001b[0mins\u001b[0m\u001b[0;34m[\u001b[0m\u001b[0;34m-\u001b[0m\u001b[0;36m1\u001b[0m\u001b[0;34m]\u001b[0m\u001b[0;34m,\u001b[0m \u001b[0mint\u001b[0m\u001b[0;34m)\u001b[0m\u001b[0;34m:\u001b[0m\u001b[0;34m\u001b[0m\u001b[0;34m\u001b[0m\u001b[0m\n\u001b[1;32m    440\u001b[0m                 \u001b[0;31m# Do not slice the training phase flag.\u001b[0m\u001b[0;34m\u001b[0m\u001b[0;34m\u001b[0m\u001b[0;34m\u001b[0m\u001b[0m\n\u001b[0;32m--> 441\u001b[0;31m                 \u001b[0mins_batch\u001b[0m \u001b[0;34m=\u001b[0m \u001b[0mslice_arrays\u001b[0m\u001b[0;34m(\u001b[0m\u001b[0mins\u001b[0m\u001b[0;34m[\u001b[0m\u001b[0;34m:\u001b[0m\u001b[0;34m-\u001b[0m\u001b[0;36m1\u001b[0m\u001b[0;34m]\u001b[0m\u001b[0;34m,\u001b[0m \u001b[0mbatch_ids\u001b[0m\u001b[0;34m)\u001b[0m \u001b[0;34m+\u001b[0m \u001b[0;34m[\u001b[0m\u001b[0mins\u001b[0m\u001b[0;34m[\u001b[0m\u001b[0;34m-\u001b[0m\u001b[0;36m1\u001b[0m\u001b[0;34m]\u001b[0m\u001b[0;34m]\u001b[0m\u001b[0;34m\u001b[0m\u001b[0;34m\u001b[0m\u001b[0m\n\u001b[0m\u001b[1;32m    442\u001b[0m             \u001b[0;32melse\u001b[0m\u001b[0;34m:\u001b[0m\u001b[0;34m\u001b[0m\u001b[0;34m\u001b[0m\u001b[0m\n\u001b[1;32m    443\u001b[0m                 \u001b[0mins_batch\u001b[0m \u001b[0;34m=\u001b[0m \u001b[0mslice_arrays\u001b[0m\u001b[0;34m(\u001b[0m\u001b[0mins\u001b[0m\u001b[0;34m,\u001b[0m \u001b[0mbatch_ids\u001b[0m\u001b[0;34m)\u001b[0m\u001b[0;34m\u001b[0m\u001b[0;34m\u001b[0m\u001b[0m\n",
      "\u001b[0;32m~/anaconda3/envs/test/lib/python3.7/site-packages/keras/utils/generic_utils.py\u001b[0m in \u001b[0;36mslice_arrays\u001b[0;34m(arrays, start, stop)\u001b[0m\n\u001b[1;32m    553\u001b[0m             \u001b[0;32mif\u001b[0m \u001b[0mhasattr\u001b[0m\u001b[0;34m(\u001b[0m\u001b[0mstart\u001b[0m\u001b[0;34m,\u001b[0m \u001b[0;34m'shape'\u001b[0m\u001b[0;34m)\u001b[0m\u001b[0;34m:\u001b[0m\u001b[0;34m\u001b[0m\u001b[0;34m\u001b[0m\u001b[0m\n\u001b[1;32m    554\u001b[0m                 \u001b[0mstart\u001b[0m \u001b[0;34m=\u001b[0m \u001b[0mstart\u001b[0m\u001b[0;34m.\u001b[0m\u001b[0mtolist\u001b[0m\u001b[0;34m(\u001b[0m\u001b[0;34m)\u001b[0m\u001b[0;34m\u001b[0m\u001b[0;34m\u001b[0m\u001b[0m\n\u001b[0;32m--> 555\u001b[0;31m             \u001b[0;32mreturn\u001b[0m \u001b[0;34m[\u001b[0m\u001b[0;32mNone\u001b[0m \u001b[0;32mif\u001b[0m \u001b[0mx\u001b[0m \u001b[0;32mis\u001b[0m \u001b[0;32mNone\u001b[0m \u001b[0;32melse\u001b[0m \u001b[0mx\u001b[0m\u001b[0;34m[\u001b[0m\u001b[0mstart\u001b[0m\u001b[0;34m]\u001b[0m \u001b[0;32mfor\u001b[0m \u001b[0mx\u001b[0m \u001b[0;32min\u001b[0m \u001b[0marrays\u001b[0m\u001b[0;34m]\u001b[0m\u001b[0;34m\u001b[0m\u001b[0;34m\u001b[0m\u001b[0m\n\u001b[0m\u001b[1;32m    556\u001b[0m         \u001b[0;32melse\u001b[0m\u001b[0;34m:\u001b[0m\u001b[0;34m\u001b[0m\u001b[0;34m\u001b[0m\u001b[0m\n\u001b[1;32m    557\u001b[0m             \u001b[0;32mreturn\u001b[0m \u001b[0;34m[\u001b[0m\u001b[0;32mNone\u001b[0m \u001b[0;32mif\u001b[0m \u001b[0mx\u001b[0m \u001b[0;32mis\u001b[0m \u001b[0;32mNone\u001b[0m \u001b[0;32melse\u001b[0m \u001b[0mx\u001b[0m\u001b[0;34m[\u001b[0m\u001b[0mstart\u001b[0m\u001b[0;34m:\u001b[0m\u001b[0mstop\u001b[0m\u001b[0;34m]\u001b[0m \u001b[0;32mfor\u001b[0m \u001b[0mx\u001b[0m \u001b[0;32min\u001b[0m \u001b[0marrays\u001b[0m\u001b[0;34m]\u001b[0m\u001b[0;34m\u001b[0m\u001b[0;34m\u001b[0m\u001b[0m\n",
      "\u001b[0;32m~/anaconda3/envs/test/lib/python3.7/site-packages/keras/utils/generic_utils.py\u001b[0m in \u001b[0;36m<listcomp>\u001b[0;34m(.0)\u001b[0m\n\u001b[1;32m    553\u001b[0m             \u001b[0;32mif\u001b[0m \u001b[0mhasattr\u001b[0m\u001b[0;34m(\u001b[0m\u001b[0mstart\u001b[0m\u001b[0;34m,\u001b[0m \u001b[0;34m'shape'\u001b[0m\u001b[0;34m)\u001b[0m\u001b[0;34m:\u001b[0m\u001b[0;34m\u001b[0m\u001b[0;34m\u001b[0m\u001b[0m\n\u001b[1;32m    554\u001b[0m                 \u001b[0mstart\u001b[0m \u001b[0;34m=\u001b[0m \u001b[0mstart\u001b[0m\u001b[0;34m.\u001b[0m\u001b[0mtolist\u001b[0m\u001b[0;34m(\u001b[0m\u001b[0;34m)\u001b[0m\u001b[0;34m\u001b[0m\u001b[0;34m\u001b[0m\u001b[0m\n\u001b[0;32m--> 555\u001b[0;31m             \u001b[0;32mreturn\u001b[0m \u001b[0;34m[\u001b[0m\u001b[0;32mNone\u001b[0m \u001b[0;32mif\u001b[0m \u001b[0mx\u001b[0m \u001b[0;32mis\u001b[0m \u001b[0;32mNone\u001b[0m \u001b[0;32melse\u001b[0m \u001b[0mx\u001b[0m\u001b[0;34m[\u001b[0m\u001b[0mstart\u001b[0m\u001b[0;34m]\u001b[0m \u001b[0;32mfor\u001b[0m \u001b[0mx\u001b[0m \u001b[0;32min\u001b[0m \u001b[0marrays\u001b[0m\u001b[0;34m]\u001b[0m\u001b[0;34m\u001b[0m\u001b[0;34m\u001b[0m\u001b[0m\n\u001b[0m\u001b[1;32m    556\u001b[0m         \u001b[0;32melse\u001b[0m\u001b[0;34m:\u001b[0m\u001b[0;34m\u001b[0m\u001b[0;34m\u001b[0m\u001b[0m\n\u001b[1;32m    557\u001b[0m             \u001b[0;32mreturn\u001b[0m \u001b[0;34m[\u001b[0m\u001b[0;32mNone\u001b[0m \u001b[0;32mif\u001b[0m \u001b[0mx\u001b[0m \u001b[0;32mis\u001b[0m \u001b[0;32mNone\u001b[0m \u001b[0;32melse\u001b[0m \u001b[0mx\u001b[0m\u001b[0;34m[\u001b[0m\u001b[0mstart\u001b[0m\u001b[0;34m:\u001b[0m\u001b[0mstop\u001b[0m\u001b[0;34m]\u001b[0m \u001b[0;32mfor\u001b[0m \u001b[0mx\u001b[0m \u001b[0;32min\u001b[0m \u001b[0marrays\u001b[0m\u001b[0;34m]\u001b[0m\u001b[0;34m\u001b[0m\u001b[0;34m\u001b[0m\u001b[0m\n",
      "\u001b[0;31mKeyboardInterrupt\u001b[0m: "
     ]
    }
   ],
   "source": [
    "checkpoint = ModelCheckpoint(filepath, monitor='val_loss', verbose=1, save_best_only=True, mode='min')\n",
    "es = EarlyStopping(monitor='val_loss', mode='min', verbose=1,patience=20)\n",
    "callbacks_list = [es,checkpoint]\n",
    "history = model.fit(train_x,train_y,validation_data=(val_x,val_y), epochs=200, batch_size=1000,\n",
    "          callbacks=callbacks_list,shuffle=True)"
   ]
  },
  {
   "cell_type": "code",
   "execution_count": null,
   "metadata": {},
   "outputs": [],
   "source": []
  },
  {
   "cell_type": "code",
   "execution_count": null,
   "metadata": {
    "execution": {
     "iopub.execute_input": "2020-12-26T19:15:38.791860Z",
     "iopub.status.busy": "2020-12-26T19:15:38.777835Z",
     "iopub.status.idle": "2020-12-26T19:15:39.116615Z",
     "shell.execute_reply": "2020-12-26T19:15:39.116923Z"
    }
   },
   "outputs": [],
   "source": [
    "filepath = '../model_files/BRDAE_final_1.hdf5'\n",
    "model = load_model(filepath)"
   ]
  },
  {
   "cell_type": "code",
   "execution_count": null,
   "metadata": {
    "execution": {
     "iopub.execute_input": "2020-12-26T19:15:39.118921Z",
     "iopub.status.busy": "2020-12-26T19:15:39.118619Z",
     "iopub.status.idle": "2020-12-26T19:16:10.467600Z",
     "shell.execute_reply": "2020-12-26T19:16:10.467913Z"
    }
   },
   "outputs": [],
   "source": [
    "test_y_pred = model.predict(test_x)"
   ]
  },
  {
   "cell_type": "code",
   "execution_count": null,
   "metadata": {
    "execution": {
     "iopub.execute_input": "2020-12-26T19:16:10.526035Z",
     "iopub.status.busy": "2020-12-26T19:16:10.517859Z",
     "iopub.status.idle": "2020-12-26T19:16:14.196568Z",
     "shell.execute_reply": "2020-12-26T19:16:14.196817Z"
    }
   },
   "outputs": [],
   "source": [
    "for k in range(test_y_pred.shape[0]):\n",
    "    test_y_pred[k]  = MinMaxScaler().fit_transform(test_y_pred[k])"
   ]
  },
  {
   "cell_type": "code",
   "execution_count": null,
   "metadata": {
    "execution": {
     "iopub.execute_input": "2020-12-26T19:16:14.200432Z",
     "iopub.status.busy": "2020-12-26T19:16:14.200140Z",
     "iopub.status.idle": "2020-12-26T19:16:15.527742Z",
     "shell.execute_reply": "2020-12-26T19:16:15.528030Z"
    },
    "scrolled": false
   },
   "outputs": [],
   "source": [
    "%matplotlib inline\n",
    "for i in range(1,100,4):\n",
    "    \n",
    "    fig,ax = plt.subplots(4,1,figsize=(10,7))\n",
    "    ax[0].plot(test_y[i])\n",
    "    ax[0].plot(test_y_pred[i],'r')\n",
    "    ax[1].plot(test_y[i+1])\n",
    "    ax[1].plot(test_y_pred[i+1],'r')\n",
    "    ax[2].plot(test_y[i+2])\n",
    "    ax[2].plot(test_y_pred[i+2],'r')\n",
    "    ax[3].plot(test_y[i+3])\n",
    "    ax[3].plot(test_y_pred[i+3],'r')\n",
    "    \n",
    "    plt.show()"
   ]
  },
  {
   "cell_type": "code",
   "execution_count": null,
   "metadata": {},
   "outputs": [],
   "source": []
  }
 ],
 "metadata": {
  "kernelspec": {
   "display_name": "Python 3",
   "language": "python",
   "name": "python3"
  },
  "language_info": {
   "codemirror_mode": {
    "name": "ipython",
    "version": 3
   },
   "file_extension": ".py",
   "mimetype": "text/x-python",
   "name": "python",
   "nbconvert_exporter": "python",
   "pygments_lexer": "ipython3",
   "version": "3.7.9"
  }
 },
 "nbformat": 4,
 "nbformat_minor": 2
}
