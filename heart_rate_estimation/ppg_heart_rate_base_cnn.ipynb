{
 "cells": [
  {
   "cell_type": "code",
   "execution_count": null,
   "metadata": {},
   "outputs": [],
   "source": [
    "import pickle"
   ]
  },
  {
   "cell_type": "code",
   "execution_count": null,
   "metadata": {},
   "outputs": [],
   "source": [
    "X,y_hr,y_participant,y_activity = pickle.load(open('../data/heart_rate_tabular_data_ppg_dalia.p','rb'))"
   ]
  },
  {
   "cell_type": "code",
   "execution_count": null,
   "metadata": {},
   "outputs": [],
   "source": [
    "import numpy as np\n",
    "import matplotlib.pyplot as plt\n",
    "from sklearn.model_selection import train_test_split,LeaveOneGroupOut\n",
    "from sklearn.metrics import accuracy_score\n",
    "import tensorflow as tf\n",
    "from tensorflow import keras\n",
    "from tensorflow.keras import backend as K\n",
    "import matplotlib.pyplot as plt\n",
    "from tensorflow.keras.callbacks import ModelCheckpoint,EarlyStopping\n",
    "from sklearn.model_selection import train_test_split\n",
    "# import numpy as np\n",
    "# %matplotlib notebook\n",
    "from tensorflow.keras.layers import Conv1D,BatchNormalization,Dropout,Input,MaxPooling1D,Flatten,Dense,Input\n",
    "from tensorflow.keras.models import Model, Sequential"
   ]
  },
  {
   "cell_type": "code",
   "execution_count": null,
   "metadata": {},
   "outputs": [],
   "source": [
    "def get_model(input_shape=(256,4),act='tanh',loss=\"mae\",opt='adam',n_classes=1):\n",
    "    model =  Sequential()\n",
    "    model.add(Conv1D(100,10,input_shape=input_shape,activation='linear',kernel_initializer='normal',padding='same'))\n",
    "    model.add(Conv1D(100,10,input_shape=input_shape,activation='relu',kernel_initializer='normal',padding='same'))\n",
    "    model.add(MaxPooling1D(2))\n",
    "    model.add(BatchNormalization())\n",
    "    model.add(Dropout(.2))\n",
    "    model.add(Conv1D(100,10,activation='relu',kernel_initializer='normal',padding='same'))\n",
    "    model.add(MaxPooling1D(2))\n",
    "    model.add(BatchNormalization())\n",
    "    model.add(Dropout(.2))\n",
    "    model.add(Conv1D(100,10,activation='relu',kernel_initializer='normal',padding='same'))\n",
    "    model.add(MaxPooling1D(2))\n",
    "    model.add(BatchNormalization())\n",
    "    model.add(Conv1D(200,10,activation='relu',kernel_initializer='normal',padding='same'))\n",
    "    model.add(MaxPooling1D(2))\n",
    "    model.add(BatchNormalization())\n",
    "    model.add(Dropout(.2))\n",
    "    model.add(Conv1D(50,2,activation='relu',kernel_initializer='normal',padding='same'))\n",
    "    model.add(MaxPooling1D(4))\n",
    "    model.add(BatchNormalization())\n",
    "    model.add(Dropout(.2))\n",
    "    model.add(Flatten())\n",
    "    model.add(Dense(n_classes*20,activation='relu',kernel_initializer='normal'))\n",
    "#     model.add(tf.keras.layers.Lambda(lambda x: tf.math.l2_normalize(x, axis=1),name='embedding'))\n",
    "    model.add(Dense(n_classes,activation='relu',kernel_initializer='normal'))\n",
    "    model.compile(loss=loss,optimizer=opt)\n",
    "    return model\n",
    "model =  get_model()\n",
    "model.summary()"
   ]
  },
  {
   "cell_type": "code",
   "execution_count": null,
   "metadata": {},
   "outputs": [],
   "source": [
    "from keras.models import load_model\n",
    "logo = LeaveOneGroupOut()\n",
    "y_final = []\n",
    "y_final_pred = []\n",
    "y_activity_final = []\n",
    "y_participant_final = []\n",
    "\n",
    "for train_index, test_index in logo.split(X, y_hr, y_participant.reshape(-1)):\n",
    "    train_x, test_x = X[train_index], X[test_index]\n",
    "    train_y, test_y = y_hr[train_index], y_hr[test_index]\n",
    "    train_participant, test_participant = y_participant[train_index], y_participant[test_index]\n",
    "    train_activity, test_activity = y_activity[train_index], y_activity[test_index]\n",
    "    train_x, val_x, train_y, val_y = train_test_split(train_x,train_y,test_size = 0.1)\n",
    "    \n",
    "    print((train_x.shape, train_y.shape), \n",
    "          (val_x.shape, val_y.shape,),\n",
    "          (test_x.shape, test_y.shape, test_activity.shape, test_participant.shape))    \n",
    "    \n",
    "    \n",
    "    model = get_model()\n",
    "    filepath = '../model_files/temp_heart_rate_estimator.hdf5'\n",
    "    checkpoint = ModelCheckpoint(filepath, monitor='val_loss', verbose=1, save_best_only=True, mode='min')\n",
    "    es = EarlyStopping(monitor='val_loss', mode='min', verbose=0,patience=20)\n",
    "    callbacks_list = [es,checkpoint]\n",
    "    history = model.fit(train_x,train_y,validation_data=(val_x,val_y), epochs=100, batch_size=500,verbose=1,\n",
    "          callbacks=callbacks_list,shuffle=True)\n",
    "    \n",
    "    \n",
    "    model = load_model(filepath)\n",
    "    test_y_pred = model.predict(test_x)\n",
    "    \n",
    "    y_final.extend(list(test_y))\n",
    "    y_final_pred.extend(list(test_y_pred))\n",
    "    y_activity_final.extend(list(test_activity))\n",
    "    y_participant_final.extend(list(test_participant))\n",
    "    \n",
    "    print(test_participant[0],'Done')\n",
    "    break\n",
    "    "
   ]
  },
  {
   "cell_type": "code",
   "execution_count": null,
   "metadata": {},
   "outputs": [],
   "source": [
    "pickle.dump([y_final,y_final_pred,y_activity_final,y_participant_final],\n",
    "            open('../data/heart_rate_prediction_ppg_dalia.p','wb'))"
   ]
  },
  {
   "cell_type": "code",
   "execution_count": null,
   "metadata": {},
   "outputs": [],
   "source": [
    "import matplotlib.pyplot as plt\n",
    "import seaborn as sns\n",
    "y_final_pred = [i[0] for i in y_final_pred]"
   ]
  },
  {
   "cell_type": "code",
   "execution_count": null,
   "metadata": {},
   "outputs": [],
   "source": [
    "plt.plot(y_final)\n",
    "plt.plot(y_final_pred)\n",
    "from sklearn.metrics import mean_absolute_error\n",
    "mean_absolute_error(y_final,y_final_pred)"
   ]
  },
  {
   "cell_type": "code",
   "execution_count": null,
   "metadata": {},
   "outputs": [],
   "source": [
    "from sklearn.metrics import mean_absolute_error\n",
    "mean_absolute_error(y_final,y_final_pred)"
   ]
  },
  {
   "cell_type": "code",
   "execution_count": null,
   "metadata": {},
   "outputs": [],
   "source": [
    "import pandas as pd\n",
    "df = pd.DataFrame({'original':y_final,'predicted':y_final_pred,'activity':y_activity_final})"
   ]
  },
  {
   "cell_type": "code",
   "execution_count": null,
   "metadata": {},
   "outputs": [],
   "source": [
    "df['error'] = df.apply(lambda a:abs(a['original']-a['predicted']),axis=1)"
   ]
  },
  {
   "cell_type": "code",
   "execution_count": null,
   "metadata": {},
   "outputs": [],
   "source": [
    "plt.figure(figsize=(20,10))\n",
    "sns.boxplot(x='activity',y='error',data=df)\n",
    "plt.show()"
   ]
  },
  {
   "cell_type": "code",
   "execution_count": null,
   "metadata": {},
   "outputs": [],
   "source": [
    "df.groupby('activity').mean()"
   ]
  },
  {
   "cell_type": "code",
   "execution_count": null,
   "metadata": {},
   "outputs": [],
   "source": []
  }
 ],
 "metadata": {
  "kernelspec": {
   "display_name": "Python 3",
   "language": "python",
   "name": "python3"
  },
  "language_info": {
   "codemirror_mode": {
    "name": "ipython",
    "version": 3
   },
   "file_extension": ".py",
   "mimetype": "text/x-python",
   "name": "python",
   "nbconvert_exporter": "python",
   "pygments_lexer": "ipython3",
   "version": "3.8.5"
  }
 },
 "nbformat": 4,
 "nbformat_minor": 4
}
