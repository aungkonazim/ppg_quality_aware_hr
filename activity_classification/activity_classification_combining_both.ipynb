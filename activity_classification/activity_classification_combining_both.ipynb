{
 "cells": [
  {
   "cell_type": "code",
   "execution_count": 2,
   "id": "failing-visitor",
   "metadata": {},
   "outputs": [],
   "source": [
    "%matplotlib inline\n",
    "import pickle\n",
    "import numpy as np\n",
    "from sklearn.preprocessing import OneHotEncoder\n",
    "import matplotlib.pyplot as plt\n",
    "X,y_hr,y_participant,y_activity,y_time = pickle.load(open('../data/wisdm_individual_windows_20.p','rb'))\n",
    "Fs = 20\n",
    "window_size = 20\n",
    "n_timesteps = window_size*Fs\n",
    "X = X[:,:,:].reshape(-1,n_timesteps,3)\n",
    "X = X/9.8\n",
    "X[X<-2] = -2\n",
    "X[X>2] = 2\n",
    "X_magnitude = np.array([np.sqrt(np.sum(np.square(a),axis=1)) for a in X])\n",
    "X_magnitude = X_magnitude.reshape(-1,n_timesteps,1)\n",
    "import seaborn as sns\n",
    "activity_list = ['Stationery','Stairs','Exercise','Walking','Sports']\n",
    "y_activity = np.array([activity_list[a] for a in y_activity])"
   ]
  },
  {
   "cell_type": "code",
   "execution_count": 3,
   "id": "alien-surgery",
   "metadata": {},
   "outputs": [
    {
     "data": {
      "text/plain": [
       "array(['Exercise', 'Sports', 'Stairs', 'Stationery', 'Walking'],\n",
       "      dtype='<U10')"
      ]
     },
     "execution_count": 3,
     "metadata": {},
     "output_type": "execute_result"
    }
   ],
   "source": [
    "np.unique(y_activity)"
   ]
  },
  {
   "cell_type": "code",
   "execution_count": 5,
   "id": "arctic-stadium",
   "metadata": {},
   "outputs": [],
   "source": [
    "X_d,y_hr_d,y_participant_d,y_activity_d,y_time_d = pickle.load(open('../data/dalia_individual_windows_20.p','rb'))\n",
    "X_d = X_d[:,:,1:]*64\n",
    "\n",
    "activity_dict_dalia = {0:'No Label',1:'Sitting', 2:'Stairs',3:'Soccer',\n",
    "                4:'Cycling',5:'Driving',6:'Lunch',7:'Walking',\n",
    "                8:'Working'}\n",
    "activity_list = ['Stationery','Stairs','Exercise','Walking','Sports']\n",
    "activity_dict_dalia_transformation = {0:-1,\n",
    "                1:0,\n",
    "                2:1,\n",
    "                3:-1,\n",
    "                4:2,\n",
    "                5:0,\n",
    "                6:-1,\n",
    "                7:3,\n",
    "                8:-1}\n",
    "y_activity_d = np.array([activity_dict_dalia_transformation[a] for a in y_activity_d])\n",
    "X_d  = X_d[y_activity_d>-1]\n",
    "y_activity_d = y_activity_d[y_activity_d>-1]\n",
    "\n",
    "from scipy.interpolate import interp1d\n",
    "def interpolate_acl(a,window_size=20,fs_now=32,fs_new=20):\n",
    "    x_now = np.linspace(0,window_size,window_size*fs_now)\n",
    "    f = interp1d(x_now,a,axis=0,fill_value='extrapolate')\n",
    "    x_new = np.linspace(0,window_size,window_size*fs_new)\n",
    "    return f(x_new)\n",
    "X_new_d = np.array([interpolate_acl(a) for a in X_d])\n",
    "Fs = 20\n",
    "window_size = 20\n",
    "n_timesteps = window_size*Fs\n",
    "X = X[:,:,:].reshape(-1,n_timesteps,3)\n",
    "X[X<-2] = -2\n",
    "X[X>2] = 2\n",
    "X_magnitude_d = np.array([np.sqrt(np.sum(np.square(a),axis=1)) for a in X_new_d]).reshape(-1,n_timesteps,1)\n",
    "y_activity_d = np.array([activity_list[a] for a in y_activity_d])"
   ]
  },
  {
   "cell_type": "code",
   "execution_count": 6,
   "id": "tough-yorkshire",
   "metadata": {},
   "outputs": [
    {
     "data": {
      "text/plain": [
       "array(['Exercise', 'Stairs', 'Stationery', 'Walking'], dtype='<U10')"
      ]
     },
     "execution_count": 6,
     "metadata": {},
     "output_type": "execute_result"
    }
   ],
   "source": [
    "np.unique(y_activity_d)"
   ]
  },
  {
   "cell_type": "code",
   "execution_count": 7,
   "id": "three-awareness",
   "metadata": {},
   "outputs": [],
   "source": [
    "X = np.concatenate([X_magnitude,X_magnitude_d])\n",
    "y_participant = np.array(list(y_participant)+list(y_participant_d+np.max(y_participant)+1))\n",
    "y_activity = np.array(list(y_activity)+list(y_activity_d))"
   ]
  },
  {
   "cell_type": "code",
   "execution_count": 8,
   "id": "arranged-problem",
   "metadata": {},
   "outputs": [],
   "source": [
    "final_activity_dict = {a:i for i,a in enumerate(activity_list)}\n",
    "final_activity_dict_reverse = {i:a for i,a in enumerate(activity_list)}"
   ]
  },
  {
   "cell_type": "code",
   "execution_count": 11,
   "id": "homeless-palestinian",
   "metadata": {},
   "outputs": [],
   "source": [
    "y_activity = np.array([final_activity_dict[a] for a in y_activity]) "
   ]
  },
  {
   "cell_type": "code",
   "execution_count": 12,
   "id": "tribal-satin",
   "metadata": {},
   "outputs": [
    {
     "data": {
      "text/plain": [
       "((19614, 400, 1), (19614,), (36315,), 5, array([0, 1, 2, 3, 4]))"
      ]
     },
     "execution_count": 12,
     "metadata": {},
     "output_type": "execute_result"
    }
   ],
   "source": [
    "X.shape,y_activity.shape,y_participant.shape,len(np.unique(y_activity)),np.unique(y_activity)"
   ]
  },
  {
   "cell_type": "code",
   "execution_count": 13,
   "id": "joined-alexander",
   "metadata": {},
   "outputs": [
    {
     "name": "stdout",
     "output_type": "stream",
     "text": [
      "4 Physical GPUs, 1 Logical GPU\n"
     ]
    }
   ],
   "source": [
    "import numpy as np\n",
    "import matplotlib.pyplot as plt\n",
    "from sklearn.model_selection import train_test_split,LeaveOneGroupOut\n",
    "from sklearn.metrics import accuracy_score\n",
    "import tensorflow as tf\n",
    "from tensorflow import keras\n",
    "from tensorflow.keras import backend as K\n",
    "import matplotlib.pyplot as plt\n",
    "from tensorflow.keras.callbacks import ModelCheckpoint,EarlyStopping\n",
    "from sklearn.model_selection import train_test_split\n",
    "# import numpy as np\n",
    "# %matplotlib notebook\n",
    "from tensorflow.keras.layers import Conv1D,BatchNormalization,Dropout,Input,MaxPooling1D,Flatten,Dense,Input\n",
    "from tensorflow.keras.models import Model, Sequential\n",
    "\n",
    "import numpy as np\n",
    "import tensorflow as tf\n",
    "from tensorflow import keras\n",
    "from tensorflow.keras import layers\n",
    "import tensorflow as tf\n",
    "gpus = tf.config.experimental.list_physical_devices('GPU')\n",
    "if gpus:\n",
    "  # Restrict TensorFlow to only use the first GPU\n",
    "    try:\n",
    "        tf.config.experimental.set_visible_devices(gpus[2], 'GPU')\n",
    "        logical_gpus = tf.config.experimental.list_logical_devices('GPU')\n",
    "        print(len(gpus), \"Physical GPUs,\", len(logical_gpus), \"Logical GPU\")\n",
    "    except RuntimeError as e:\n",
    "        # Visible devices must be set before GPUs have been initialized\n",
    "        print(e)"
   ]
  },
  {
   "cell_type": "code",
   "execution_count": 14,
   "id": "fleet-motion",
   "metadata": {},
   "outputs": [
    {
     "name": "stdout",
     "output_type": "stream",
     "text": [
      "Model: \"sequential\"\n",
      "_________________________________________________________________\n",
      "Layer (type)                 Output Shape              Param #   \n",
      "=================================================================\n",
      "conv1d (Conv1D)              (None, 400, 100)          1100      \n",
      "_________________________________________________________________\n",
      "conv1d_1 (Conv1D)            (None, 400, 100)          100100    \n",
      "_________________________________________________________________\n",
      "max_pooling1d (MaxPooling1D) (None, 200, 100)          0         \n",
      "_________________________________________________________________\n",
      "batch_normalization (BatchNo (None, 200, 100)          400       \n",
      "_________________________________________________________________\n",
      "dropout (Dropout)            (None, 200, 100)          0         \n",
      "_________________________________________________________________\n",
      "conv1d_2 (Conv1D)            (None, 200, 100)          100100    \n",
      "_________________________________________________________________\n",
      "max_pooling1d_1 (MaxPooling1 (None, 100, 100)          0         \n",
      "_________________________________________________________________\n",
      "batch_normalization_1 (Batch (None, 100, 100)          400       \n",
      "_________________________________________________________________\n",
      "dropout_1 (Dropout)          (None, 100, 100)          0         \n",
      "_________________________________________________________________\n",
      "conv1d_3 (Conv1D)            (None, 100, 100)          100100    \n",
      "_________________________________________________________________\n",
      "max_pooling1d_2 (MaxPooling1 (None, 50, 100)           0         \n",
      "_________________________________________________________________\n",
      "batch_normalization_2 (Batch (None, 50, 100)           400       \n",
      "_________________________________________________________________\n",
      "conv1d_4 (Conv1D)            (None, 50, 200)           200200    \n",
      "_________________________________________________________________\n",
      "max_pooling1d_3 (MaxPooling1 (None, 25, 200)           0         \n",
      "_________________________________________________________________\n",
      "batch_normalization_3 (Batch (None, 25, 200)           800       \n",
      "_________________________________________________________________\n",
      "dropout_2 (Dropout)          (None, 25, 200)           0         \n",
      "_________________________________________________________________\n",
      "conv1d_5 (Conv1D)            (None, 25, 50)            20050     \n",
      "_________________________________________________________________\n",
      "max_pooling1d_4 (MaxPooling1 (None, 6, 50)             0         \n",
      "_________________________________________________________________\n",
      "batch_normalization_4 (Batch (None, 6, 50)             200       \n",
      "_________________________________________________________________\n",
      "dropout_3 (Dropout)          (None, 6, 50)             0         \n",
      "_________________________________________________________________\n",
      "flatten (Flatten)            (None, 300)               0         \n",
      "_________________________________________________________________\n",
      "dense (Dense)                (None, 100)               30100     \n",
      "_________________________________________________________________\n",
      "dense_1 (Dense)              (None, 5)                 505       \n",
      "_________________________________________________________________\n",
      "dense_2 (Dense)              (None, 5)                 30        \n",
      "=================================================================\n",
      "Total params: 554,485\n",
      "Trainable params: 553,385\n",
      "Non-trainable params: 1,100\n",
      "_________________________________________________________________\n"
     ]
    }
   ],
   "source": [
    "def get_model(input_shape=(200,1),act='tanh',loss=\"mae\",opt='adam',n_classes=1):\n",
    "    model =  Sequential()\n",
    "    model.add(Conv1D(100,10,input_shape=input_shape,activation='linear',kernel_initializer='normal',padding='same'))\n",
    "    model.add(Conv1D(100,10,input_shape=input_shape,activation='relu',kernel_initializer='normal',padding='same'))\n",
    "    model.add(MaxPooling1D(2))\n",
    "    model.add(BatchNormalization())\n",
    "    model.add(Dropout(.2))\n",
    "    model.add(Conv1D(100,10,activation='relu',kernel_initializer='normal',padding='same'))\n",
    "    model.add(MaxPooling1D(2))\n",
    "    model.add(BatchNormalization())\n",
    "    model.add(Dropout(.2))\n",
    "    model.add(Conv1D(100,10,activation='relu',kernel_initializer='normal',padding='same'))\n",
    "    model.add(MaxPooling1D(2))\n",
    "    model.add(BatchNormalization())\n",
    "    model.add(Conv1D(200,10,activation='relu',kernel_initializer='normal',padding='same'))\n",
    "    model.add(MaxPooling1D(2))\n",
    "    model.add(BatchNormalization())\n",
    "    model.add(Dropout(.2))\n",
    "    model.add(Conv1D(50,2,activation='relu',kernel_initializer='normal',padding='same'))\n",
    "    model.add(MaxPooling1D(4))\n",
    "    model.add(BatchNormalization())\n",
    "    model.add(Dropout(.2))\n",
    "    model.add(Flatten())\n",
    "    model.add(Dense(n_classes*20,activation='relu',kernel_initializer='normal'))\n",
    "#     model.add(tf.keras.layers.Lambda(lambda x: tf.math.l2_normalize(x, axis=1),name='embedding'))\n",
    "    model.add(Dense(n_classes,activation=None,kernel_initializer='normal'))\n",
    "    model.add(Dense(n_classes,activation='softmax',kernel_initializer='normal'))\n",
    "    model.compile(loss=loss,optimizer=opt)\n",
    "    return model\n",
    "from focal_loss import BinaryFocalLoss,SparseCategoricalFocalLoss\n",
    "model =  get_model(input_shape=(n_timesteps,1),n_classes=len(np.unique(y_activity)),loss=SparseCategoricalFocalLoss(gamma=2))\n",
    "model.summary()"
   ]
  },
  {
   "cell_type": "code",
   "execution_count": 15,
   "id": "chicken-geology",
   "metadata": {},
   "outputs": [
    {
     "name": "stdout",
     "output_type": "stream",
     "text": [
      "Epoch 1/300\n",
      "WARNING:tensorflow:From /home/azim/miniconda3/envs/test1/lib/python3.8/site-packages/tensorflow/python/ops/array_ops.py:5043: calling gather (from tensorflow.python.ops.array_ops) with validate_indices is deprecated and will be removed in a future version.\n",
      "Instructions for updating:\n",
      "The `validate_indices` argument has no effect. Indices are always validated on CPU and never validated on GPU.\n",
      "220/220 [==============================] - 7s 18ms/step - loss: 0.6095 - val_loss: 1.2847\n",
      "\n",
      "Epoch 00001: val_loss improved from inf to 1.28472, saving model to ../model_files/activity_estimator_both_study_magnitude_final_5_labels.hdf5\n",
      "Epoch 2/300\n",
      "220/220 [==============================] - 3s 16ms/step - loss: 0.1930 - val_loss: 0.7213\n",
      "\n",
      "Epoch 00002: val_loss improved from 1.28472 to 0.72130, saving model to ../model_files/activity_estimator_both_study_magnitude_final_5_labels.hdf5\n",
      "Epoch 3/300\n",
      "220/220 [==============================] - 3s 16ms/step - loss: 0.1453 - val_loss: 1.9738\n",
      "\n",
      "Epoch 00003: val_loss did not improve from 0.72130\n",
      "Epoch 4/300\n",
      "220/220 [==============================] - 3s 16ms/step - loss: 0.1207 - val_loss: 0.3730\n",
      "\n",
      "Epoch 00004: val_loss improved from 0.72130 to 0.37304, saving model to ../model_files/activity_estimator_both_study_magnitude_final_5_labels.hdf5\n",
      "Epoch 5/300\n",
      "220/220 [==============================] - 3s 16ms/step - loss: 0.0994 - val_loss: 0.8928\n",
      "\n",
      "Epoch 00005: val_loss did not improve from 0.37304\n",
      "Epoch 6/300\n",
      "220/220 [==============================] - 3s 16ms/step - loss: 0.0863 - val_loss: 0.2098\n",
      "\n",
      "Epoch 00006: val_loss improved from 0.37304 to 0.20980, saving model to ../model_files/activity_estimator_both_study_magnitude_final_5_labels.hdf5\n",
      "Epoch 7/300\n",
      "220/220 [==============================] - 3s 16ms/step - loss: 0.0824 - val_loss: 1.1326\n",
      "\n",
      "Epoch 00007: val_loss did not improve from 0.20980\n",
      "Epoch 8/300\n",
      "220/220 [==============================] - 3s 16ms/step - loss: 0.0725 - val_loss: 2.6536\n",
      "\n",
      "Epoch 00008: val_loss did not improve from 0.20980\n",
      "Epoch 9/300\n",
      "220/220 [==============================] - 3s 16ms/step - loss: 0.0623 - val_loss: 0.9579\n",
      "\n",
      "Epoch 00009: val_loss did not improve from 0.20980\n",
      "Epoch 10/300\n",
      "220/220 [==============================] - 3s 16ms/step - loss: 0.0512 - val_loss: 1.3685\n",
      "\n",
      "Epoch 00010: val_loss did not improve from 0.20980\n",
      "Epoch 11/300\n",
      "220/220 [==============================] - 3s 16ms/step - loss: 0.0442 - val_loss: 0.4029\n",
      "\n",
      "Epoch 00011: val_loss did not improve from 0.20980\n",
      "Epoch 12/300\n",
      "220/220 [==============================] - 3s 16ms/step - loss: 0.0416 - val_loss: 0.5329\n",
      "\n",
      "Epoch 00012: val_loss did not improve from 0.20980\n",
      "Epoch 13/300\n",
      "220/220 [==============================] - 3s 16ms/step - loss: 0.0366 - val_loss: 1.1951\n",
      "\n",
      "Epoch 00013: val_loss did not improve from 0.20980\n",
      "Epoch 14/300\n",
      "220/220 [==============================] - 3s 16ms/step - loss: 0.0386 - val_loss: 0.2802\n",
      "\n",
      "Epoch 00014: val_loss did not improve from 0.20980\n",
      "Epoch 15/300\n",
      "220/220 [==============================] - 3s 16ms/step - loss: 0.0351 - val_loss: 0.8044\n",
      "\n",
      "Epoch 00015: val_loss did not improve from 0.20980\n",
      "Epoch 16/300\n",
      "220/220 [==============================] - 3s 16ms/step - loss: 0.0318 - val_loss: 1.2223\n",
      "\n",
      "Epoch 00016: val_loss did not improve from 0.20980\n",
      "Epoch 17/300\n",
      "220/220 [==============================] - 3s 16ms/step - loss: 0.0302 - val_loss: 0.6316\n",
      "\n",
      "Epoch 00017: val_loss did not improve from 0.20980\n",
      "Epoch 18/300\n",
      "220/220 [==============================] - 3s 16ms/step - loss: 0.0276 - val_loss: 0.1956\n",
      "\n",
      "Epoch 00018: val_loss improved from 0.20980 to 0.19558, saving model to ../model_files/activity_estimator_both_study_magnitude_final_5_labels.hdf5\n",
      "Epoch 19/300\n",
      "220/220 [==============================] - 3s 16ms/step - loss: 0.0225 - val_loss: 0.3226\n",
      "\n",
      "Epoch 00019: val_loss did not improve from 0.19558\n",
      "Epoch 20/300\n",
      "220/220 [==============================] - 3s 16ms/step - loss: 0.0241 - val_loss: 0.0895\n",
      "\n",
      "Epoch 00020: val_loss improved from 0.19558 to 0.08945, saving model to ../model_files/activity_estimator_both_study_magnitude_final_5_labels.hdf5\n",
      "Epoch 21/300\n",
      "220/220 [==============================] - 3s 16ms/step - loss: 0.0214 - val_loss: 0.6072\n",
      "\n",
      "Epoch 00021: val_loss did not improve from 0.08945\n",
      "Epoch 22/300\n",
      "220/220 [==============================] - 3s 16ms/step - loss: 0.0218 - val_loss: 4.1684\n",
      "\n",
      "Epoch 00022: val_loss did not improve from 0.08945\n",
      "Epoch 23/300\n",
      "220/220 [==============================] - 3s 16ms/step - loss: 0.0187 - val_loss: 0.6626\n",
      "\n",
      "Epoch 00023: val_loss did not improve from 0.08945\n",
      "Epoch 24/300\n",
      "220/220 [==============================] - 3s 16ms/step - loss: 0.0175 - val_loss: 1.2690\n",
      "\n",
      "Epoch 00024: val_loss did not improve from 0.08945\n",
      "Epoch 25/300\n",
      "220/220 [==============================] - 3s 16ms/step - loss: 0.0190 - val_loss: 0.1876\n",
      "\n",
      "Epoch 00025: val_loss did not improve from 0.08945\n",
      "Epoch 26/300\n",
      "220/220 [==============================] - 3s 16ms/step - loss: 0.0210 - val_loss: 0.1798\n",
      "\n",
      "Epoch 00026: val_loss did not improve from 0.08945\n",
      "Epoch 27/300\n",
      "220/220 [==============================] - 3s 16ms/step - loss: 0.0131 - val_loss: 0.5797\n",
      "\n",
      "Epoch 00027: val_loss did not improve from 0.08945\n",
      "Epoch 28/300\n",
      "220/220 [==============================] - 3s 16ms/step - loss: 0.0216 - val_loss: 0.4571\n",
      "\n",
      "Epoch 00028: val_loss did not improve from 0.08945\n",
      "Epoch 29/300\n",
      "220/220 [==============================] - 3s 16ms/step - loss: 0.0096 - val_loss: 0.7620\n",
      "\n",
      "Epoch 00029: val_loss did not improve from 0.08945\n",
      "Epoch 30/300\n",
      "220/220 [==============================] - 3s 16ms/step - loss: 0.0130 - val_loss: 0.9800\n",
      "\n",
      "Epoch 00030: val_loss did not improve from 0.08945\n",
      "Epoch 31/300\n",
      "220/220 [==============================] - 3s 16ms/step - loss: 0.0151 - val_loss: 0.2193\n",
      "\n",
      "Epoch 00031: val_loss did not improve from 0.08945\n",
      "Epoch 32/300\n",
      "220/220 [==============================] - 3s 16ms/step - loss: 0.0123 - val_loss: 1.0140\n",
      "\n",
      "Epoch 00032: val_loss did not improve from 0.08945\n",
      "Epoch 33/300\n",
      "220/220 [==============================] - 3s 16ms/step - loss: 0.0145 - val_loss: 0.3858\n",
      "\n",
      "Epoch 00033: val_loss did not improve from 0.08945\n",
      "Epoch 34/300\n",
      "220/220 [==============================] - 3s 16ms/step - loss: 0.0111 - val_loss: 0.2676\n",
      "\n",
      "Epoch 00034: val_loss did not improve from 0.08945\n",
      "Epoch 35/300\n",
      "220/220 [==============================] - 3s 16ms/step - loss: 0.0099 - val_loss: 0.4575\n",
      "\n",
      "Epoch 00035: val_loss did not improve from 0.08945\n",
      "Epoch 36/300\n",
      "220/220 [==============================] - 3s 16ms/step - loss: 0.0188 - val_loss: 0.4809\n",
      "\n",
      "Epoch 00036: val_loss did not improve from 0.08945\n",
      "Epoch 37/300\n",
      "220/220 [==============================] - 3s 16ms/step - loss: 0.0134 - val_loss: 0.1256\n",
      "\n",
      "Epoch 00037: val_loss did not improve from 0.08945\n",
      "Epoch 38/300\n",
      "220/220 [==============================] - 3s 16ms/step - loss: 0.0095 - val_loss: 0.4019\n",
      "\n",
      "Epoch 00038: val_loss did not improve from 0.08945\n",
      "Epoch 39/300\n",
      "220/220 [==============================] - 3s 16ms/step - loss: 0.0133 - val_loss: 0.5975\n",
      "\n",
      "Epoch 00039: val_loss did not improve from 0.08945\n",
      "Epoch 40/300\n",
      "220/220 [==============================] - 3s 16ms/step - loss: 0.0089 - val_loss: 0.5298\n",
      "\n",
      "Epoch 00040: val_loss did not improve from 0.08945\n",
      "Epoch 00040: early stopping\n"
     ]
    }
   ],
   "source": [
    "from keras.models import load_model\n",
    "n_classes = len(np.unique(y_activity))\n",
    "model =  get_model(input_shape=(n_timesteps,1),n_classes=n_classes,loss=SparseCategoricalFocalLoss(gamma=1))\n",
    "filepath = '../model_files/activity_estimator_both_study_magnitude_final_5_labels.hdf5'\n",
    "checkpoint = ModelCheckpoint(filepath, monitor='val_loss', verbose=1, save_best_only=True, mode='min',save_weights_only=False)\n",
    "es = EarlyStopping(monitor='val_loss', mode='min', verbose=1,patience=20)\n",
    "callbacks_list = [es,checkpoint]\n",
    "train_x,test_x,train_y,test_y = train_test_split(X,y_activity,test_size=.3,stratify=y_activity)\n",
    "train_x,val_x,train_y,val_y = train_test_split(train_x,train_y,test_size=.2,stratify=train_y)\n",
    "history = model.fit(train_x,train_y,validation_data=(val_x,val_y), epochs=300, batch_size=50,verbose=1,\n",
    "      callbacks=callbacks_list,shuffle=True)"
   ]
  },
  {
   "cell_type": "code",
   "execution_count": 16,
   "id": "israeli-amino",
   "metadata": {},
   "outputs": [],
   "source": [
    "model.load_weights(filepath)"
   ]
  },
  {
   "cell_type": "code",
   "execution_count": 17,
   "id": "coupled-white",
   "metadata": {},
   "outputs": [],
   "source": [
    "y_pred = model.predict(test_x).argmax(axis=1)"
   ]
  },
  {
   "cell_type": "code",
   "execution_count": 18,
   "id": "athletic-greene",
   "metadata": {},
   "outputs": [],
   "source": [
    "from sklearn.metrics import classification_report,confusion_matrix"
   ]
  },
  {
   "cell_type": "code",
   "execution_count": 19,
   "id": "global-brain",
   "metadata": {},
   "outputs": [],
   "source": [
    "y_pred = [final_activity_dict_reverse[a] for a in y_pred]\n",
    "test_y = [final_activity_dict_reverse[a] for a in test_y]"
   ]
  },
  {
   "cell_type": "code",
   "execution_count": 20,
   "id": "frequent-bridges",
   "metadata": {},
   "outputs": [
    {
     "name": "stdout",
     "output_type": "stream",
     "text": [
      "              precision    recall  f1-score   support\n",
      "\n",
      "    Exercise       0.93      0.99      0.96       724\n",
      "      Sports       0.95      0.93      0.94       941\n",
      "      Stairs       0.94      0.96      0.95       698\n",
      "  Stationery       0.97      0.97      0.97      2642\n",
      "     Walking       0.98      0.94      0.96       880\n",
      "\n",
      "    accuracy                           0.96      5885\n",
      "   macro avg       0.96      0.96      0.96      5885\n",
      "weighted avg       0.96      0.96      0.96      5885\n",
      "\n"
     ]
    }
   ],
   "source": [
    "print(classification_report(test_y,y_pred))"
   ]
  },
  {
   "cell_type": "code",
   "execution_count": 22,
   "id": "breeding-potter",
   "metadata": {},
   "outputs": [],
   "source": [
    "import pandas as pd\n",
    "df = pd.DataFrame({'original':test_y,'predicted':y_pred})\n",
    "df['values'] = 1"
   ]
  },
  {
   "cell_type": "code",
   "execution_count": 23,
   "id": "private-consent",
   "metadata": {},
   "outputs": [
    {
     "data": {
      "text/html": [
       "<div>\n",
       "<style scoped>\n",
       "    .dataframe tbody tr th:only-of-type {\n",
       "        vertical-align: middle;\n",
       "    }\n",
       "\n",
       "    .dataframe tbody tr th {\n",
       "        vertical-align: top;\n",
       "    }\n",
       "\n",
       "    .dataframe thead th {\n",
       "        text-align: right;\n",
       "    }\n",
       "</style>\n",
       "<table border=\"1\" class=\"dataframe\">\n",
       "  <thead>\n",
       "    <tr style=\"text-align: right;\">\n",
       "      <th>predicted</th>\n",
       "      <th>Exercise</th>\n",
       "      <th>Sports</th>\n",
       "      <th>Stairs</th>\n",
       "      <th>Stationery</th>\n",
       "      <th>Walking</th>\n",
       "    </tr>\n",
       "    <tr>\n",
       "      <th>original</th>\n",
       "      <th></th>\n",
       "      <th></th>\n",
       "      <th></th>\n",
       "      <th></th>\n",
       "      <th></th>\n",
       "    </tr>\n",
       "  </thead>\n",
       "  <tbody>\n",
       "    <tr>\n",
       "      <th>Exercise</th>\n",
       "      <td>0.988950</td>\n",
       "      <td>0.000000</td>\n",
       "      <td>0.001381</td>\n",
       "      <td>0.006906</td>\n",
       "      <td>0.002762</td>\n",
       "    </tr>\n",
       "    <tr>\n",
       "      <th>Sports</th>\n",
       "      <td>0.003188</td>\n",
       "      <td>0.933050</td>\n",
       "      <td>0.009564</td>\n",
       "      <td>0.053135</td>\n",
       "      <td>0.001063</td>\n",
       "    </tr>\n",
       "    <tr>\n",
       "      <th>Stairs</th>\n",
       "      <td>0.002865</td>\n",
       "      <td>0.020057</td>\n",
       "      <td>0.958453</td>\n",
       "      <td>0.001433</td>\n",
       "      <td>0.017192</td>\n",
       "    </tr>\n",
       "    <tr>\n",
       "      <th>Stationery</th>\n",
       "      <td>0.018168</td>\n",
       "      <td>0.009084</td>\n",
       "      <td>0.000379</td>\n",
       "      <td>0.970855</td>\n",
       "      <td>0.001514</td>\n",
       "    </tr>\n",
       "    <tr>\n",
       "      <th>Walking</th>\n",
       "      <td>0.000000</td>\n",
       "      <td>0.006818</td>\n",
       "      <td>0.032955</td>\n",
       "      <td>0.020455</td>\n",
       "      <td>0.939773</td>\n",
       "    </tr>\n",
       "  </tbody>\n",
       "</table>\n",
       "</div>"
      ],
      "text/plain": [
       "predicted   Exercise    Sports    Stairs  Stationery   Walking\n",
       "original                                                      \n",
       "Exercise    0.988950  0.000000  0.001381    0.006906  0.002762\n",
       "Sports      0.003188  0.933050  0.009564    0.053135  0.001063\n",
       "Stairs      0.002865  0.020057  0.958453    0.001433  0.017192\n",
       "Stationery  0.018168  0.009084  0.000379    0.970855  0.001514\n",
       "Walking     0.000000  0.006818  0.032955    0.020455  0.939773"
      ]
     },
     "execution_count": 23,
     "metadata": {},
     "output_type": "execute_result"
    }
   ],
   "source": [
    "data = pd.pivot_table(df,index='original',columns='predicted',values='values',aggfunc='sum')\n",
    "data = data.fillna(0)\n",
    "for a in np.unique(df['original']):\n",
    "    data.loc[a] = data.loc[a]/data.loc[a].sum()\n",
    "data"
   ]
  },
  {
   "cell_type": "code",
   "execution_count": 24,
   "id": "appointed-prayer",
   "metadata": {},
   "outputs": [
    {
     "data": {
      "image/png": "[encoded data removed]",
      "text/plain": [
       "<Figure size 1440x720 with 2 Axes>"
      ]
     },
     "metadata": {
      "needs_background": "light"
     },
     "output_type": "display_data"
    }
   ],
   "source": [
    "import seaborn as sns\n",
    "plt.rcParams.update({'font.size':25})\n",
    "plt.figure(figsize=(20,10))\n",
    "sns.heatmap(data,annot=True,fmt='.2f',cmap='Reds')\n",
    "plt.tight_layout()\n",
    "plt.savefig('./images/final_confusion_matrix_all.png')\n",
    "plt.show()"
   ]
  },
  {
   "cell_type": "code",
   "execution_count": null,
   "id": "proof-barcelona",
   "metadata": {},
   "outputs": [],
   "source": []
  }
 ],
 "metadata": {
  "kernelspec": {
   "display_name": "Python 3",
   "language": "python",
   "name": "python3"
  },
  "language_info": {
   "codemirror_mode": {
    "name": "ipython",
    "version": 3
   },
   "file_extension": ".py",
   "mimetype": "text/x-python",
   "name": "python",
   "nbconvert_exporter": "python",
   "pygments_lexer": "ipython3",
   "version": "3.8.5"
  }
 },
 "nbformat": 4,
 "nbformat_minor": 5
}
