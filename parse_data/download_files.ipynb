{
 "cells": [
  {
   "cell_type": "code",
   "execution_count": null,
   "metadata": {},
   "outputs": [],
   "source": [
    "import urllib.request\n",
    "\n",
    "print('Beginning file download with urllib2...')\n",
    "\n",
    "url = 'https://uni-siegen.sciebo.de/s/pYjSgfOVs6Ntahr/download'\n",
    "urllib.request.urlretrieve(url, '../data/Wesad.zip')"
   ]
  },
  {
   "cell_type": "code",
   "execution_count": null,
   "metadata": {},
   "outputs": [],
   "source": [
    "import urllib.request\n",
    "\n",
    "print('Beginning file download with urllib2...')\n",
    "\n",
    "url = 'https://livememphis-my.sharepoint.com/personal/mullah_memphis_edu/_layouts/15/onedrive.aspx?id=%2Fpersonal%2Fmullah%5Fmemphis%5Fedu%2FDocuments%2Fdata%5Fwalking%2Fright%5Fwrist%2Ezip&parent=%2Fpersonal%2Fmullah%5Fmemphis%5Fedu%2FDocuments%2Fdata%5Fwalking&originalPath=aHR0cHM6Ly9saXZlbWVtcGhpcy1teS5zaGFyZXBvaW50LmNvbS86dTovZy9wZXJzb25hbC9tdWxsYWhfbWVtcGhpc19lZHUvRVNnTExwQUdqalJEZ05tX3Z3eUtsZ2dCUFBfQW5jTmE0dDJCODNfYndKUXdUUT9ydGltZT1tN3lvYkpEcDJFZw'\n",
    "a = urllib.request.urlretrieve(url, '../data/right_wrist.zip')"
   ]
  },
  {
   "cell_type": "code",
   "execution_count": null,
   "metadata": {},
   "outputs": [],
   "source": [
    "import pickle\n",
    "import numpy as np\n",
    "import pandas as pd\n",
    "import os\n",
    "\n",
    "directory = '../../mperf-activity-recognition/data/right_wrist.zip'\n",
    "output_directory = '../../mperf-activity-recognition/data/'\n",
    "\n",
    "os.listdir(output_directory)\n",
    "\n",
    "import zipfile\n",
    "with zipfile.ZipFile(directory, 'r') as zip_ref:\n",
    "    zip_ref.extractall(output_directory)"
   ]
  },
  {
   "cell_type": "code",
   "execution_count": null,
   "metadata": {},
   "outputs": [],
   "source": []
  }
 ],
 "metadata": {
  "kernelspec": {
   "display_name": "Python 3",
   "language": "python",
   "name": "python3"
  },
  "language_info": {
   "codemirror_mode": {
    "name": "ipython",
    "version": 3
   },
   "file_extension": ".py",
   "mimetype": "text/x-python",
   "name": "python",
   "nbconvert_exporter": "python",
   "pygments_lexer": "ipython3",
   "version": "3.8.5"
  }
 },
 "nbformat": 4,
 "nbformat_minor": 4
}
