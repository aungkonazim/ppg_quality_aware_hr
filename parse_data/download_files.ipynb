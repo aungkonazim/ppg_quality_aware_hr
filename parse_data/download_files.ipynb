{
 "cells": [
  {
   "cell_type": "code",
   "execution_count": null,
   "metadata": {},
   "outputs": [
    {
     "name": "stdout",
     "output_type": "stream",
     "text": [
      "Beginning file download with urllib2...\n"
     ]
    }
   ],
   "source": [
    "import urllib.request\n",
    "\n",
    "print('Beginning file download with urllib2...')\n",
    "\n",
    "url = 'https://uni-siegen.sciebo.de/s/pYjSgfOVs6Ntahr/download'\n",
    "urllib.request.urlretrieve(url, '../data/Wesad.zip')"
   ]
  },
  {
   "cell_type": "code",
   "execution_count": null,
   "metadata": {
    "collapsed": true
   },
   "outputs": [],
   "source": []
  }
 ],
 "metadata": {
  "kernelspec": {
   "display_name": "Python 3",
   "language": "python",
   "name": "python3"
  },
  "language_info": {
   "codemirror_mode": {
    "name": "ipython",
    "version": 3
   },
   "file_extension": ".py",
   "mimetype": "text/x-python",
   "name": "python",
   "nbconvert_exporter": "python",
   "pygments_lexer": "ipython3",
   "version": "3.7.9"
  }
 },
 "nbformat": 4,
 "nbformat_minor": 2
}
