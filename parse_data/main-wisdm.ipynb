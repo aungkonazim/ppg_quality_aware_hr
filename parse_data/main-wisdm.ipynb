{
 "cells": [
  {
   "cell_type": "code",
   "execution_count": 54,
   "id": "scheduled-lodging",
   "metadata": {},
   "outputs": [],
   "source": [
    "import pandas as pd\n",
    "import numpy as np\n",
    "import os"
   ]
  },
  {
   "cell_type": "code",
   "execution_count": 55,
   "id": "vital-puppy",
   "metadata": {},
   "outputs": [],
   "source": [
    "# directory = '../data/wisdm-dataset.zip'\n",
    "# output_directory = '../data/'\n",
    "\n",
    "# os.listdir(output_directory)\n",
    "\n",
    "# import zipfile\n",
    "# with zipfile.ZipFile(directory, 'r') as zip_ref:\n",
    "#     zip_ref.extractall(output_directory)"
   ]
  },
  {
   "cell_type": "code",
   "execution_count": 56,
   "id": "fresh-cycle",
   "metadata": {},
   "outputs": [],
   "source": [
    "import string\n",
    "\n",
    "letters = ['A','B',\n",
    " 'C', 'D',\n",
    " 'E', 'F',\n",
    " 'G', 'H',\n",
    " 'I', 'J',\n",
    " 'K', 'L',\n",
    " 'M', 'O',\n",
    " 'P', 'Q',\n",
    " 'R', 'S']\n",
    "\n",
    "\n",
    "\n",
    "labels = ['Walking','Jogging','Stairs','Sitting','Standing','Typing','Brushing Teeth','Eating Soup',\n",
    "'Eating Chips','Eating Pasta','Drinking from Cup','Eating Sandwich','Kicking (Soccer Ball)','Playing Catch w/Tennis Ball','Dribblinlg (Basketball)','Writing',\n",
    "'Clapping','Folding Clothes']\n",
    "activity_dict_to_label = {a[0]:a[1] for a in list(zip(letters,labels))}\n",
    "\n",
    "activity_dict_to_index = {a[0]:i for i,a in enumerate(letters)}"
   ]
  },
  {
   "cell_type": "code",
   "execution_count": 57,
   "id": "serial-litigation",
   "metadata": {},
   "outputs": [
    {
     "data": {
      "text/plain": [
       "{'A': 'Walking',\n",
       " 'B': 'Jogging',\n",
       " 'C': 'Stairs',\n",
       " 'D': 'Sitting',\n",
       " 'E': 'Standing',\n",
       " 'F': 'Typing',\n",
       " 'G': 'Brushing Teeth',\n",
       " 'H': 'Eating Soup',\n",
       " 'I': 'Eating Chips',\n",
       " 'J': 'Eating Pasta',\n",
       " 'K': 'Drinking from Cup',\n",
       " 'L': 'Eating Sandwich',\n",
       " 'M': 'Kicking (Soccer Ball)',\n",
       " 'O': 'Playing Catch w/Tennis Ball',\n",
       " 'P': 'Dribblinlg (Basketball)',\n",
       " 'Q': 'Writing',\n",
       " 'R': 'Clapping',\n",
       " 'S': 'Folding Clothes'}"
      ]
     },
     "execution_count": 57,
     "metadata": {},
     "output_type": "execute_result"
    }
   ],
   "source": [
    "activity_dict_to_label"
   ]
  },
  {
   "cell_type": "code",
   "execution_count": 58,
   "id": "pointed-australia",
   "metadata": {},
   "outputs": [],
   "source": [
    "activity_dict1 = {'No Label':-1,'Sitting':0,'Stairs':1,'Soccer':2,\n",
    "                'Cycling':3,'Driving':4,'Lunch':-1,'Walking':5,\n",
    "                'Working':-1}\n",
    "activity_dict_to_index = {'A': 3, 'B': 2, 'C': 1, 'D': 0, 'E': 0, 'F': 0,\n",
    "                          'G': -1, 'H': -1, 'I': -1, 'J': -1, 'K': -1, 'L': -1,\n",
    "                          'M': 4, 'O': 4, 'P': 4, 'Q': 0, 'R': -1, 'S': -1}\n",
    "\n",
    "\n",
    "activity_list = ['Stationery','Stairs','Exercise','Walking','Sports']\n",
    "indexes =       [    0,        1,        2,        3,          4,         5]"
   ]
  },
  {
   "cell_type": "code",
   "execution_count": 59,
   "id": "amended-darwin",
   "metadata": {},
   "outputs": [
    {
     "name": "stdout",
     "output_type": "stream",
     "text": [
      "['A' 'B' 'C' 'D' 'E' 'F' 'G' 'H' 'I' 'J' 'K' 'L' 'M' 'O' 'P' 'Q' 'R' 'S']\n",
      "['A' 'B' 'C' 'D' 'E' 'F' 'G' 'H' 'I' 'J' 'K' 'L' 'M' 'O' 'P' 'Q' 'R' 'S']\n",
      "['A' 'B' 'C' 'D' 'E' 'F' 'G' 'H' 'I' 'J' 'K' 'L' 'M' 'O' 'P' 'Q' 'R' 'S']\n",
      "['A' 'B' 'C' 'D' 'E' 'F' 'G' 'H' 'I' 'J' 'K' 'L' 'M' 'O' 'P' 'Q' 'R' 'S']\n",
      "['A' 'B' 'C' 'D' 'E' 'F' 'G' 'H' 'I' 'J' 'K' 'L' 'M' 'O' 'P' 'Q' 'R' 'S']\n",
      "['A' 'B' 'C' 'D' 'E' 'F' 'G' 'H' 'I' 'J' 'K' 'L' 'M' 'O' 'P' 'Q' 'R' 'S']\n",
      "['A' 'B' 'C' 'D' 'E' 'F' 'G' 'H' 'I' 'J' 'K' 'L' 'M' 'O' 'P' 'Q' 'R' 'S']\n",
      "['A' 'B' 'C' 'D' 'E' 'F' 'G' 'H' 'I' 'J' 'K' 'L' 'M' 'O' 'P' 'Q' 'R' 'S']\n",
      "['A' 'B' 'C' 'D' 'E' 'F' 'G' 'H' 'I' 'J' 'K' 'L' 'M' 'O' 'P' 'Q' 'R' 'S']\n",
      "['A' 'B' 'C' 'D' 'E' 'F' 'G' 'H' 'I' 'J' 'K' 'L' 'M' 'O' 'P' 'Q' 'R' 'S']\n",
      "['A' 'B' 'C' 'D' 'E' 'F' 'G' 'H' 'I' 'J' 'K' 'L' 'M' 'O' 'P' 'Q' 'R' 'S']\n",
      "['A' 'B' 'C' 'D' 'E' 'F' 'G' 'H' 'I' 'J' 'K' 'L' 'M' 'O' 'P' 'Q' 'R' 'S']\n",
      "['A' 'B' 'C' 'D' 'E' 'F' 'G' 'H' 'I' 'J' 'K' 'L' 'M' 'O' 'P' 'Q' 'R' 'S']\n",
      "['A' 'B' 'C' 'D' 'E' 'F' 'G' 'H' 'I' 'J' 'K' 'L' 'M' 'O' 'P' 'Q' 'R' 'S']\n",
      "['A' 'B' 'C' 'D' 'E' 'F' 'G' 'H' 'I' 'J' 'K' 'L' 'M' 'O' 'P' 'Q' 'R' 'S']\n",
      "['A' 'B' 'C' 'D' 'E' 'F' 'G' 'H' 'I' 'J' 'K' 'L' 'M' 'O' 'P' 'Q' 'R' 'S']\n",
      "['A' 'B' 'C' 'D' 'E' 'F' 'G' 'H' 'I' 'J' 'K' 'L' 'M' 'O' 'P' 'Q' 'R' 'S']\n",
      "['A' 'B' 'C' 'D' 'E' 'F' 'G' 'H' 'I' 'K' 'L' 'M' 'O' 'P' 'Q' 'R' 'S']\n",
      "['A' 'B' 'C' 'D' 'E' 'F' 'G' 'H' 'I' 'J' 'K' 'L' 'M' 'O' 'P' 'Q' 'R' 'S']\n",
      "['A' 'B' 'C' 'D' 'E' 'F' 'G' 'H' 'I' 'J' 'K' 'L' 'M' 'O' 'P' 'Q' 'R' 'S']\n",
      "['A' 'B' 'C' 'D' 'E' 'F' 'G' 'H' 'I' 'J' 'K' 'L' 'M' 'O' 'P' 'Q' 'R' 'S']\n",
      "['A' 'B' 'C' 'D' 'E' 'F' 'G' 'H' 'I' 'J' 'K' 'L' 'M' 'O' 'P' 'Q' 'R' 'S']\n",
      "['A' 'B' 'C' 'D' 'E' 'F' 'G' 'H' 'I' 'J' 'K' 'M' 'O' 'P' 'Q' 'R' 'S']\n",
      "['A' 'B' 'C' 'D' 'E' 'F' 'G' 'H' 'I' 'J' 'K' 'L' 'M' 'O' 'P' 'Q' 'R' 'S']\n",
      "['A' 'B' 'C' 'D' 'E' 'F' 'G' 'H' 'I' 'J' 'K' 'L' 'M' 'O' 'P' 'Q' 'R' 'S']\n",
      "['A' 'B' 'C' 'D' 'E' 'F' 'G' 'H' 'I' 'J' 'K' 'L' 'M' 'O' 'P' 'Q' 'R' 'S']\n",
      "['A' 'B' 'C' 'D' 'E' 'F' 'G' 'H' 'I' 'J' 'K' 'L' 'M' 'O' 'P' 'Q' 'R' 'S']\n",
      "['A' 'B' 'C' 'D' 'E' 'F' 'G' 'H' 'I' 'J' 'K' 'L' 'M' 'O' 'P' 'Q' 'R' 'S']\n",
      "['A' 'B' 'C' 'D' 'E' 'F' 'G' 'H' 'I' 'J' 'K' 'L' 'M' 'O' 'P' 'Q' 'R' 'S']\n",
      "['A' 'B' 'C' 'D' 'E' 'F' 'G' 'H' 'I' 'J' 'K' 'L' 'M' 'O' 'P' 'Q' 'R' 'S']\n",
      "['A' 'B' 'C' 'D' 'E' 'F' 'G' 'H' 'I' 'J' 'K' 'L' 'M' 'O' 'P' 'Q' 'R' 'S']\n",
      "['A' 'B' 'C' 'D' 'E' 'F' 'G' 'H' 'I' 'J' 'K' 'L' 'M' 'O' 'P' 'Q' 'R' 'S']\n",
      "['A' 'B' 'C' 'D' 'E' 'F' 'G' 'H' 'I' 'J' 'K' 'L' 'M' 'O' 'P' 'Q' 'R' 'S']\n",
      "['A' 'B' 'C' 'D' 'E' 'F' 'G' 'H' 'I' 'J' 'K' 'L' 'M' 'O' 'P' 'Q' 'R' 'S']\n",
      "['A' 'B' 'C' 'D' 'E' 'F' 'G' 'H' 'I' 'J' 'K' 'L' 'M' 'O' 'P' 'Q' 'R' 'S']\n",
      "['A' 'B' 'C' 'D' 'E' 'F' 'G' 'H' 'I' 'J' 'K' 'L' 'M' 'O' 'P' 'Q' 'R' 'S']\n",
      "['A' 'B' 'C' 'D' 'E' 'F' 'G' 'H' 'I' 'J' 'K' 'L' 'M' 'O' 'P' 'Q' 'R' 'S']\n",
      "['A' 'B' 'C' 'D' 'E' 'F' 'G' 'H' 'I' 'J' 'K' 'L' 'M' 'O' 'P' 'Q' 'R' 'S']\n",
      "['A' 'B' 'C' 'D' 'E' 'F' 'G' 'H' 'I' 'J' 'K' 'L' 'M' 'O' 'P' 'Q' 'R' 'S']\n",
      "['A' 'B' 'C' 'D' 'E' 'F' 'G' 'H' 'I' 'J' 'K' 'L' 'M' 'O' 'P' 'Q' 'R' 'S']\n",
      "['A' 'B' 'C' 'D' 'E' 'F' 'G' 'H' 'I' 'J' 'K' 'L' 'M' 'O' 'P' 'Q' 'R' 'S']\n",
      "['A' 'B' 'C' 'D' 'E' 'F' 'G' 'H' 'I' 'J' 'K' 'L' 'M' 'O' 'P' 'Q' 'R' 'S']\n",
      "['A' 'B' 'C' 'D' 'E' 'F' 'G' 'H' 'I' 'J' 'K' 'L' 'M' 'O' 'P' 'Q' 'R' 'S']\n",
      "['A' 'B' 'C' 'D' 'E' 'F' 'G' 'H' 'I' 'J' 'K' 'L' 'M' 'O' 'P' 'Q' 'R' 'S']\n",
      "['A' 'B' 'D' 'E' 'G' 'H' 'I' 'J' 'K' 'L' 'M' 'O' 'P' 'Q' 'R' 'S']\n",
      "['A' 'B' 'C' 'D' 'E' 'F' 'G' 'H' 'I' 'J' 'K' 'L' 'M' 'O' 'P' 'Q' 'R' 'S']\n",
      "['A' 'C' 'D' 'E' 'F' 'G' 'H' 'I' 'J' 'K' 'L' 'M' 'O' 'P' 'Q' 'R' 'S']\n",
      "['A' 'B' 'C' 'D' 'E' 'F' 'G' 'H' 'I' 'J' 'K' 'L' 'M' 'P' 'Q' 'R' 'S']\n",
      "['A' 'B' 'C' 'D' 'E' 'F' 'G' 'H' 'I' 'J' 'K' 'L' 'M' 'O' 'P' 'Q' 'R' 'S']\n",
      "['A' 'B' 'C' 'D' 'E' 'F' 'G' 'H' 'I' 'J' 'K' 'L' 'M' 'O' 'P' 'Q' 'R' 'S']\n",
      "['A' 'B' 'C' 'D' 'E' 'F' 'G' 'H' 'I' 'J' 'K' 'L' 'M' 'O' 'P' 'Q' 'R' 'S']\n",
      "(10476, 400, 3) (10476,) (10476,) (10476,) (10476,)\n"
     ]
    }
   ],
   "source": [
    "from datetime import datetime\n",
    "from scipy.stats import mode\n",
    "\n",
    "def get_individual_windows(filelists,fs = 20,window_size = 20,factor=2):\n",
    "    step = fs*window_size//factor\n",
    "    y_activity = []\n",
    "    y_participant = []\n",
    "    X = []\n",
    "    y_time = []\n",
    "    y_hr =[]\n",
    "    for i,f in enumerate(filelists):\n",
    "        data = pd.read_csv(f,names=['user','activity','timestamp','x','y','z'],delimiter=',')\n",
    "        print(data.activity.unique())\n",
    "        data['activity_index'] = data['activity'].apply(lambda a:activity_dict_to_index[a])\n",
    "        data['user'] = i\n",
    "        data['timestamp'] = data['timestamp'].apply(lambda a:a/1e6)\n",
    "        data['z'] = data['z'].apply(lambda a:np.float32(a[:-1]))\n",
    "        data  = data.sort_values('timestamp').reset_index(drop=True)\n",
    "        for k in range(0,data.shape[0]-fs*window_size,step):\n",
    "            temp = data[k:k+fs*window_size]\n",
    "            if mode(temp['activity_index'].values)[0][0]==-1:\n",
    "                continue\n",
    "            y_activity.append(mode(temp['activity_index'].values)[0][0])\n",
    "            y_participant.append(i)\n",
    "            X.append(temp[['x','y','z']].values.reshape(1,-1,3))\n",
    "            y_time.append(np.mean(data['timestamp']))\n",
    "            y_hr.append(60)\n",
    "    X = np.concatenate(X)\n",
    "    y_participant = np.array(y_participant)\n",
    "    y_activity = np.array(y_activity)\n",
    "    y_time = np.array(y_time)\n",
    "    y_hr = np.array(y_hr)\n",
    "    print(X.shape,y_hr.shape,y_participant.shape,y_activity.shape,y_time.shape)\n",
    "    return X,y_hr,y_participant,y_activity,y_time\n",
    "\n",
    "window_size = 20\n",
    "filepath = '../data/wisdm-dataset/raw/watch/accel/'\n",
    "filelists = [os.path.join(filepath,a) for a in os.listdir(filepath) if a[0]=='d']\n",
    "a = get_individual_windows(filelists,window_size=window_size)\n",
    "import pickle\n",
    "pickle.dump(a,open('../data/wisdm_individual_windows_'+str(window_size)+'.p','wb'))"
   ]
  },
  {
   "cell_type": "code",
   "execution_count": null,
   "id": "defensive-degree",
   "metadata": {},
   "outputs": [],
   "source": [
    "65830/20/3600"
   ]
  },
  {
   "cell_type": "code",
   "execution_count": null,
   "id": "specialized-macedonia",
   "metadata": {},
   "outputs": [],
   "source": [
    "import matplotlib.pyplot as plt\n",
    "plt.figure()\n",
    "# plt.hist(a[0][:,:,0])\n",
    "plt.plot(a[0][0])\n",
    "plt.show()\n",
    "a[0].shape"
   ]
  },
  {
   "cell_type": "code",
   "execution_count": null,
   "id": "thick-filename",
   "metadata": {},
   "outputs": [],
   "source": [
    "np.max(a[0])*2/66"
   ]
  },
  {
   "cell_type": "code",
   "execution_count": null,
   "id": "narrow-retrieval",
   "metadata": {},
   "outputs": [],
   "source": []
  }
 ],
 "metadata": {
  "kernelspec": {
   "display_name": "Python 3",
   "language": "python",
   "name": "python3"
  },
  "language_info": {
   "codemirror_mode": {
    "name": "ipython",
    "version": 3
   },
   "file_extension": ".py",
   "mimetype": "text/x-python",
   "name": "python",
   "nbconvert_exporter": "python",
   "pygments_lexer": "ipython3",
   "version": "3.8.5"
  }
 },
 "nbformat": 4,
 "nbformat_minor": 5
}
